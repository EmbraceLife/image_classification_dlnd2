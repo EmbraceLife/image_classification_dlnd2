{
 "cells": [
  {
   "cell_type": "markdown",
   "metadata": {},
   "source": [
    "### Rewrite dlnd_project2 in kur\n",
    "- [original project_2 code](http://nbviewer.jupyter.org/github/EmbraceLife/image_classification_dlnd2/blob/master/cnn_cifar10.ipynb#annotations:5YK7tv1dEealzwMjXZx4WQ) in tensorflow\n",
    "- [detailed outline](https://github.com/EmbraceLife/image_classification_dlnd2/blob/master/outline.md) of the original code\n",
    "- kur code to replicate the original code is below"
   ]
  },
  {
   "cell_type": "code",
   "execution_count": 9,
   "metadata": {
    "collapsed": false
   },
   "outputs": [
    {
     "name": "stdout",
     "output_type": "stream",
     "text": [
      "Kur, by Deepgram -- deep learning made easy\r\n",
      "Version: 0.3.0\r\n",
      "Homepage: https://kur.deepgram.com\r\n"
     ]
    }
   ],
   "source": [
    "!kur --version"
   ]
  },
  {
   "cell_type": "code",
   "execution_count": 12,
   "metadata": {
    "collapsed": false
   },
   "outputs": [
    {
     "name": "stdout",
     "output_type": "stream",
     "text": [
      "Overwriting dlnd_p2.yml\n"
     ]
    }
   ],
   "source": [
    "%%writefile dlnd_p2.yml\n",
    "\n",
    "---\n",
    "settings:\n",
    "\n",
    "  # Where to get the data\n",
    "  cifar: &cifar\n",
    "    url: \"https://www.cs.toronto.edu/~kriz/cifar-10-python.tar.gz\"\n",
    "    checksum: \"6d958be074577803d12ecdefd02955f39262c83c16fe9348329d7fe0b5c001ce\"\n",
    "    path: \"~/kur\"           # if kur does not have normalization or one-hot-encoding, ##################\n",
    "                            # without normalization and one-hot-encoding, the performance will be hurt, right? ####\n",
    "  # Backend to use                                      \n",
    "  backend:\n",
    "    name: keras\n",
    "\n",
    "  # Hyperparameters\n",
    "  cnn:\n",
    "    kernels: 20\n",
    "    size: [5, 5]\n",
    "    strides: [2, 2]                \n",
    "\n",
    "  pool:\n",
    "    size: [2,2]\n",
    "    strides: [2,2]\n",
    "    type: \"max\"                         # must use a string here, {max} won't work, doc didn't say it #############\n",
    "\n",
    "model:\n",
    "  - input: images                       # images are normalized from 0 to 1, labels are one-hot-encoding ##########\n",
    "  - convolution:                        # does kur do normalize and one-hot-encoding under the hood? ##############\n",
    "      kernels: \"{{cnn.kernels}}\"\n",
    "      size: \"{{cnn.size}}\"\n",
    "      strides: \"{{ cnn.strides }}\"\n",
    "  - activation: relu\n",
    "  - pool:\n",
    "      size: \"{{pool.size}}\"\n",
    "      strides: \"{{pool.strides}}\"\n",
    "      type: \"{{pool.type}}\"             \n",
    "  - flatten:\n",
    "  - dense: 15                           # p2 want a dropout applied here, but kur does not have yet?? ############\n",
    "#   - dropout: 0.75\n",
    "  - dense: 10\n",
    "  - activation: softmax\n",
    "    name: labels\n",
    "\n",
    "train:\n",
    "  data:\n",
    "    - cifar:\n",
    "        <<: *cifar\n",
    "        parts: [1]                      # only use dataset part 1 to train\n",
    "  provider:\n",
    "    batch_size: 128\n",
    "    num_batches: 1000                   # the entire part 1 will be used\n",
    "  log: t3/cifar-log                   \n",
    "  epochs: 20\n",
    "  weights:\n",
    "    initial: t3/cifar.best.valid.w    \n",
    "    best: t3/cifar.best.train.w\n",
    "    last: t3/cifar.last.w\n",
    "\n",
    "  optimizer:\n",
    "    name: adam\n",
    "    learning_rate: 0.001\n",
    "\n",
    "validate:\n",
    "  data:\n",
    "    - cifar:\n",
    "       <<: *cifar\n",
    "       parts: 5                          # only use dataset part 5 as validation set\n",
    "  provider:\n",
    "    num_batches: 50                      # the project 2 only used 5000 data points as validation set\n",
    "  weights: t3/cifar.best.valid.w\n",
    "\n",
    "test: &test\n",
    "  data:\n",
    "    - cifar:\n",
    "       <<: *cifar\n",
    "       parts: test\n",
    "  weights: t3/cifar.best.valid.w\n",
    "  provider:\n",
    "    num_batches: 1000                     # the entire part test will be used\n",
    "\n",
    "evaluate:\n",
    "  <<: *test\n",
    "  destination: t3/cifar.results.pkl\n",
    "\n",
    "loss:\n",
    "  - target: labels                        # in the project: training loss and valid_accuracy are printed #############\n",
    "    name: categorical_crossentropy        # this should be a matter of personal taste, won't really affect anything##\n",
    "...\n"
   ]
  },
  {
   "cell_type": "code",
   "execution_count": 13,
   "metadata": {
    "collapsed": false
   },
   "outputs": [
    {
     "data": {
      "text/plain": [
       "'/Users/Natsume/Downloads/kur_road'"
      ]
     },
     "execution_count": 13,
     "metadata": {},
     "output_type": "execute_result"
    }
   ],
   "source": [
    "%pwd"
   ]
  },
  {
   "cell_type": "code",
   "execution_count": 14,
   "metadata": {
    "collapsed": false
   },
   "outputs": [
    {
     "name": "stdout",
     "output_type": "stream",
     "text": [
      "Kur_Road.ipynb       dlnd_p2_dropout.yml  \u001b[34mt1\u001b[m\u001b[m/\r\n",
      "\u001b[34mcifar-log\u001b[m\u001b[m/           dlnd_p2_kur.ipynb    \u001b[34mt2\u001b[m\u001b[m/\r\n",
      "dlnd_p2.yml          \u001b[34mkur\u001b[m\u001b[m/                 \u001b[34mt3\u001b[m\u001b[m/\r\n"
     ]
    }
   ],
   "source": [
    "%ls"
   ]
  },
  {
   "cell_type": "code",
   "execution_count": 15,
   "metadata": {
    "collapsed": false
   },
   "outputs": [
    {
     "name": "stdout",
     "output_type": "stream",
     "text": [
      "\u001b[1;37m[INFO 2017-02-28 22:28:48,972 kur.kurfile:638]\u001b[0m Parsing source: dlnd_p2.yml, included by top-level.\u001b[0m\n",
      "\u001b[1;37m[INFO 2017-02-28 22:28:48,989 kur.kurfile:79]\u001b[0m Parsing Kurfile...\u001b[0m\n",
      "\u001b[1;37m[INFO 2017-02-28 22:28:49,038 kur.loggers.binary_logger:87]\u001b[0m Log does not exist. Creating path: t3/cifar-log\u001b[0m\n",
      "\u001b[1;37m[INFO 2017-02-28 22:28:56,014 kur.providers.batch_provider:54]\u001b[0m Batch size set to: 128\u001b[0m\n",
      "\u001b[1;37m[INFO 2017-02-28 22:28:56,014 kur.providers.batch_provider:60]\u001b[0m Maximum number of batches set to: 1000\u001b[0m\n",
      "\u001b[1;37m[INFO 2017-02-28 22:29:02,413 kur.providers.batch_provider:54]\u001b[0m Batch size set to: 32\u001b[0m\n",
      "\u001b[1;37m[INFO 2017-02-28 22:29:02,413 kur.providers.batch_provider:60]\u001b[0m Maximum number of batches set to: 50\u001b[0m\n",
      "\u001b[1;37m[INFO 2017-02-28 22:29:02,414 kur.backend.backend:80]\u001b[0m Creating backend: keras\u001b[0m\n",
      "\u001b[1;37m[INFO 2017-02-28 22:29:02,414 kur.backend.backend:83]\u001b[0m Backend variants: none\u001b[0m\n",
      "\u001b[1;37m[INFO 2017-02-28 22:29:02,414 kur.backend.keras_backend:122]\u001b[0m No particular backend for Keras has been requested.\u001b[0m\n",
      "\u001b[1;37m[INFO 2017-02-28 22:29:03,578 kur.backend.keras_backend:191]\u001b[0m Keras is loaded. The backend is: theano\u001b[0m\n",
      "\u001b[1;37m[INFO 2017-02-28 22:29:03,579 kur.model.model:260]\u001b[0m Enumerating the model containers.\u001b[0m\n",
      "\u001b[1;37m[INFO 2017-02-28 22:29:03,579 kur.model.model:265]\u001b[0m Assembling the model dependency graph.\u001b[0m\n",
      "\u001b[1;37m[INFO 2017-02-28 22:29:03,579 kur.model.model:280]\u001b[0m Connecting the model graph.\u001b[0m\n",
      "\u001b[1;37m[INFO 2017-02-28 22:29:04,579 kur.model.model:284]\u001b[0m Model inputs:  images\u001b[0m\n",
      "\u001b[1;37m[INFO 2017-02-28 22:29:04,579 kur.model.model:285]\u001b[0m Model outputs: labels\u001b[0m\n",
      "\u001b[1;37m[INFO 2017-02-28 22:29:04,580 kur.kurfile:310]\u001b[0m Ignoring missing initial weights: t3/cifar.best.valid.w. If this is undesireable, set \"must_exist\" to \"yes\" in the approriate \"weights\" section.\u001b[0m\n",
      "\u001b[1;37m[INFO 2017-02-28 22:29:05,910 kur.providers.batch_provider:54]\u001b[0m Batch size set to: 2\u001b[0m\n",
      "\u001b[1;37m[INFO 2017-02-28 22:29:05,910 kur.providers.batch_provider:60]\u001b[0m Maximum number of batches set to: 1\u001b[0m\n",
      "\u001b[1;37m[INFO 2017-02-28 22:29:05,913 kur.backend.keras_backend:654]\u001b[0m Waiting for model to finish compiling...\u001b[0m\n",
      "\u001b[1;37m[INFO 2017-02-28 22:29:05,956 kur.model.executor:256]\u001b[0m No historical training loss available from logs.\u001b[0m\n",
      "\u001b[1;37m[INFO 2017-02-28 22:29:05,956 kur.model.executor:264]\u001b[0m No historical validation loss available from logs.\u001b[0m\n",
      "\u001b[1;37m[INFO 2017-02-28 22:29:05,956 kur.model.executor:270]\u001b[0m No previous epochs.\u001b[0m\n",
      "\n",
      "Epoch 1/20, loss=2.035: 100%|██████| 10000/10000 [00:02<00:00, 3344.74samples/s]\n",
      "\u001b[1;37m[INFO 2017-02-28 22:29:08,954 kur.model.executor:390]\u001b[0m Training loss: 2.035\u001b[0m\n",
      "\u001b[1;37m[INFO 2017-02-28 22:29:08,954 kur.model.executor:397]\u001b[0m Saving best historical training weights: t3/cifar.best.train.w\u001b[0m\n",
      "\u001b[1;37m[INFO 2017-02-28 22:29:09,202 kur.providers.batch_provider:54]\u001b[0m Batch size set to: 2\u001b[0m\n",
      "\u001b[1;37m[INFO 2017-02-28 22:29:09,203 kur.providers.batch_provider:60]\u001b[0m Maximum number of batches set to: 1\u001b[0m\n",
      "\u001b[1;37m[INFO 2017-02-28 22:29:09,208 kur.backend.keras_backend:654]\u001b[0m Waiting for model to finish compiling...\u001b[0m\n",
      "Validating, loss=1.854: 100%|████████| 1600/1600 [00:00<00:00, 4341.85samples/s]\n",
      "\u001b[1;37m[INFO 2017-02-28 22:29:09,585 kur.model.executor:175]\u001b[0m Validation loss: 1.854\u001b[0m\n",
      "\u001b[1;37m[INFO 2017-02-28 22:29:09,585 kur.model.executor:422]\u001b[0m Saving best historical validation weights: t3/cifar.best.valid.w\u001b[0m\n",
      "\n",
      "Epoch 2/20, loss=1.693: 100%|██████| 10000/10000 [00:02<00:00, 4339.70samples/s]\n",
      "\u001b[1;37m[INFO 2017-02-28 22:29:11,897 kur.model.executor:390]\u001b[0m Training loss: 1.693\u001b[0m\n",
      "\u001b[1;37m[INFO 2017-02-28 22:29:11,897 kur.model.executor:397]\u001b[0m Saving best historical training weights: t3/cifar.best.train.w\u001b[0m\n",
      "Validating, loss=1.641: 100%|████████| 1600/1600 [00:00<00:00, 7412.35samples/s]\n",
      "\u001b[1;37m[INFO 2017-02-28 22:29:12,117 kur.model.executor:175]\u001b[0m Validation loss: 1.641\u001b[0m\n",
      "\u001b[1;37m[INFO 2017-02-28 22:29:12,118 kur.model.executor:422]\u001b[0m Saving best historical validation weights: t3/cifar.best.valid.w\u001b[0m\n",
      "\n",
      "Epoch 3/20, loss=1.541: 100%|██████| 10000/10000 [00:02<00:00, 4452.24samples/s]\n",
      "\u001b[1;37m[INFO 2017-02-28 22:29:14,370 kur.model.executor:390]\u001b[0m Training loss: 1.541\u001b[0m\n",
      "\u001b[1;37m[INFO 2017-02-28 22:29:14,371 kur.model.executor:397]\u001b[0m Saving best historical training weights: t3/cifar.best.train.w\u001b[0m\n",
      "Validating, loss=1.548: 100%|████████| 1600/1600 [00:00<00:00, 8700.24samples/s]\n",
      "\u001b[1;37m[INFO 2017-02-28 22:29:14,562 kur.model.executor:175]\u001b[0m Validation loss: 1.548\u001b[0m\n",
      "\u001b[1;37m[INFO 2017-02-28 22:29:14,562 kur.model.executor:422]\u001b[0m Saving best historical validation weights: t3/cifar.best.valid.w\u001b[0m\n",
      "\n",
      "Epoch 4/20, loss=1.444: 100%|██████| 10000/10000 [00:01<00:00, 5273.62samples/s]\n",
      "\u001b[1;37m[INFO 2017-02-28 22:29:16,462 kur.model.executor:390]\u001b[0m Training loss: 1.444\u001b[0m\n",
      "\u001b[1;37m[INFO 2017-02-28 22:29:16,462 kur.model.executor:397]\u001b[0m Saving best historical training weights: t3/cifar.best.train.w\u001b[0m\n",
      "Validating, loss=1.510: 100%|████████| 1600/1600 [00:00<00:00, 8556.89samples/s]\n",
      "\u001b[1;37m[INFO 2017-02-28 22:29:16,654 kur.model.executor:175]\u001b[0m Validation loss: 1.510\u001b[0m\n",
      "\u001b[1;37m[INFO 2017-02-28 22:29:16,654 kur.model.executor:422]\u001b[0m Saving best historical validation weights: t3/cifar.best.valid.w\u001b[0m\n",
      "\n",
      "Epoch 5/20, loss=1.376: 100%|██████| 10000/10000 [00:02<00:00, 4149.76samples/s]\n",
      "\u001b[1;37m[INFO 2017-02-28 22:29:19,075 kur.model.executor:390]\u001b[0m Training loss: 1.376\u001b[0m\n",
      "\u001b[1;37m[INFO 2017-02-28 22:29:19,075 kur.model.executor:397]\u001b[0m Saving best historical training weights: t3/cifar.best.train.w\u001b[0m\n",
      "Validating, loss=1.431: 100%|████████| 1600/1600 [00:00<00:00, 4356.86samples/s]\n",
      "\u001b[1;37m[INFO 2017-02-28 22:29:19,448 kur.model.executor:175]\u001b[0m Validation loss: 1.431\u001b[0m\n",
      "\u001b[1;37m[INFO 2017-02-28 22:29:19,448 kur.model.executor:422]\u001b[0m Saving best historical validation weights: t3/cifar.best.valid.w\u001b[0m\n",
      "\n",
      "Epoch 6/20, loss=1.319: 100%|██████| 10000/10000 [00:02<00:00, 3406.46samples/s]\n",
      "\u001b[1;37m[INFO 2017-02-28 22:29:22,388 kur.model.executor:390]\u001b[0m Training loss: 1.319\u001b[0m\n",
      "\u001b[1;37m[INFO 2017-02-28 22:29:22,388 kur.model.executor:397]\u001b[0m Saving best historical training weights: t3/cifar.best.train.w\u001b[0m\n",
      "Validating, loss=1.411: 100%|████████| 1600/1600 [00:00<00:00, 4413.76samples/s]\n",
      "\u001b[1;37m[INFO 2017-02-28 22:29:22,758 kur.model.executor:175]\u001b[0m Validation loss: 1.411\u001b[0m\n",
      "\u001b[1;37m[INFO 2017-02-28 22:29:22,758 kur.model.executor:422]\u001b[0m Saving best historical validation weights: t3/cifar.best.valid.w\u001b[0m\n",
      "\n",
      "Epoch 7/20, loss=1.265: 100%|██████| 10000/10000 [00:02<00:00, 4796.83samples/s]\n",
      "\u001b[1;37m[INFO 2017-02-28 22:29:24,846 kur.model.executor:390]\u001b[0m Training loss: 1.265\u001b[0m\n",
      "\u001b[1;37m[INFO 2017-02-28 22:29:24,847 kur.model.executor:397]\u001b[0m Saving best historical training weights: t3/cifar.best.train.w\u001b[0m\n",
      "Validating, loss=1.365: 100%|████████| 1600/1600 [00:00<00:00, 5337.14samples/s]\n",
      "\u001b[1;37m[INFO 2017-02-28 22:29:25,151 kur.model.executor:175]\u001b[0m Validation loss: 1.365\u001b[0m\n",
      "\u001b[1;37m[INFO 2017-02-28 22:29:25,151 kur.model.executor:422]\u001b[0m Saving best historical validation weights: t3/cifar.best.valid.w\u001b[0m\n",
      "\n",
      "Epoch 8/20, loss=1.226: 100%|██████| 10000/10000 [00:02<00:00, 4854.19samples/s]\n",
      "\u001b[1;37m[INFO 2017-02-28 22:29:27,215 kur.model.executor:390]\u001b[0m Training loss: 1.226\u001b[0m\n",
      "\u001b[1;37m[INFO 2017-02-28 22:29:27,215 kur.model.executor:397]\u001b[0m Saving best historical training weights: t3/cifar.best.train.w\u001b[0m\n",
      "Validating, loss=1.401: 100%|████████| 1600/1600 [00:00<00:00, 6717.13samples/s]\n",
      "\u001b[1;37m[INFO 2017-02-28 22:29:27,459 kur.model.executor:175]\u001b[0m Validation loss: 1.401\u001b[0m\n",
      "\n",
      "Epoch 9/20, loss=1.189: 100%|██████| 10000/10000 [00:02<00:00, 4833.21samples/s]\n",
      "\u001b[1;37m[INFO 2017-02-28 22:29:29,530 kur.model.executor:390]\u001b[0m Training loss: 1.189\u001b[0m\n",
      "\u001b[1;37m[INFO 2017-02-28 22:29:29,530 kur.model.executor:397]\u001b[0m Saving best historical training weights: t3/cifar.best.train.w\u001b[0m\n",
      "Validating, loss=1.325: 100%|████████| 1600/1600 [00:00<00:00, 6882.16samples/s]\n",
      "\u001b[1;37m[INFO 2017-02-28 22:29:29,768 kur.model.executor:175]\u001b[0m Validation loss: 1.325\u001b[0m\n",
      "\u001b[1;37m[INFO 2017-02-28 22:29:29,769 kur.model.executor:422]\u001b[0m Saving best historical validation weights: t3/cifar.best.valid.w\u001b[0m\n",
      "\n",
      "Epoch 10/20, loss=1.155: 100%|█████| 10000/10000 [00:02<00:00, 4126.60samples/s]\n",
      "\u001b[1;37m[INFO 2017-02-28 22:29:32,198 kur.model.executor:390]\u001b[0m Training loss: 1.155\u001b[0m\n",
      "\u001b[1;37m[INFO 2017-02-28 22:29:32,198 kur.model.executor:397]\u001b[0m Saving best historical training weights: t3/cifar.best.train.w\u001b[0m\n",
      "Validating, loss=1.275: 100%|████████| 1600/1600 [00:00<00:00, 6558.35samples/s]\n",
      "\u001b[1;37m[INFO 2017-02-28 22:29:32,449 kur.model.executor:175]\u001b[0m Validation loss: 1.275\u001b[0m\n",
      "\u001b[1;37m[INFO 2017-02-28 22:29:32,449 kur.model.executor:422]\u001b[0m Saving best historical validation weights: t3/cifar.best.valid.w\u001b[0m\n",
      "\n",
      "Epoch 11/20, loss=1.124: 100%|█████| 10000/10000 [00:02<00:00, 4612.79samples/s]\n",
      "\u001b[1;37m[INFO 2017-02-28 22:29:34,624 kur.model.executor:390]\u001b[0m Training loss: 1.124\u001b[0m\n",
      "\u001b[1;37m[INFO 2017-02-28 22:29:34,624 kur.model.executor:397]\u001b[0m Saving best historical training weights: t3/cifar.best.train.w\u001b[0m\n",
      "Validating, loss=1.297: 100%|████████| 1600/1600 [00:00<00:00, 7161.01samples/s]\n",
      "\u001b[1;37m[INFO 2017-02-28 22:29:34,852 kur.model.executor:175]\u001b[0m Validation loss: 1.297\u001b[0m\n",
      "\n",
      "Epoch 12/20, loss=1.093: 100%|█████| 10000/10000 [00:02<00:00, 4749.13samples/s]\n",
      "\u001b[1;37m[INFO 2017-02-28 22:29:36,960 kur.model.executor:390]\u001b[0m Training loss: 1.093\u001b[0m\n",
      "\u001b[1;37m[INFO 2017-02-28 22:29:36,961 kur.model.executor:397]\u001b[0m Saving best historical training weights: t3/cifar.best.train.w\u001b[0m\n",
      "Validating, loss=1.298: 100%|████████| 1600/1600 [00:00<00:00, 6370.80samples/s]\n",
      "\u001b[1;37m[INFO 2017-02-28 22:29:37,220 kur.model.executor:175]\u001b[0m Validation loss: 1.298\u001b[0m\n",
      "\n",
      "Epoch 13/20, loss=1.064: 100%|█████| 10000/10000 [00:02<00:00, 3999.67samples/s]\n",
      "\u001b[1;37m[INFO 2017-02-28 22:29:39,723 kur.model.executor:390]\u001b[0m Training loss: 1.064\u001b[0m\n",
      "\u001b[1;37m[INFO 2017-02-28 22:29:39,723 kur.model.executor:397]\u001b[0m Saving best historical training weights: t3/cifar.best.train.w\u001b[0m\n",
      "Validating, loss=1.282: 100%|████████| 1600/1600 [00:00<00:00, 6927.25samples/s]\n",
      "\u001b[1;37m[INFO 2017-02-28 22:29:39,959 kur.model.executor:175]\u001b[0m Validation loss: 1.282\u001b[0m\n",
      "\n",
      "Epoch 14/20, loss=1.049: 100%|█████| 10000/10000 [00:02<00:00, 4225.23samples/s]\n",
      "\u001b[1;37m[INFO 2017-02-28 22:29:42,327 kur.model.executor:390]\u001b[0m Training loss: 1.049\u001b[0m\n",
      "\u001b[1;37m[INFO 2017-02-28 22:29:42,328 kur.model.executor:397]\u001b[0m Saving best historical training weights: t3/cifar.best.train.w\u001b[0m\n",
      "Validating, loss=1.285: 100%|████████| 1600/1600 [00:00<00:00, 4020.90samples/s]\n",
      "\u001b[1;37m[INFO 2017-02-28 22:29:42,737 kur.model.executor:175]\u001b[0m Validation loss: 1.285\u001b[0m\n",
      "\n",
      "Epoch 15/20, loss=1.029: 100%|█████| 10000/10000 [00:03<00:00, 3258.72samples/s]\n",
      "\u001b[1;37m[INFO 2017-02-28 22:29:45,808 kur.model.executor:390]\u001b[0m Training loss: 1.029\u001b[0m\n",
      "\u001b[1;37m[INFO 2017-02-28 22:29:45,808 kur.model.executor:397]\u001b[0m Saving best historical training weights: t3/cifar.best.train.w\u001b[0m\n",
      "Validating, loss=1.313: 100%|████████| 1600/1600 [00:00<00:00, 3002.92samples/s]\n",
      "\u001b[1;37m[INFO 2017-02-28 22:29:46,346 kur.model.executor:175]\u001b[0m Validation loss: 1.313\u001b[0m\n",
      "\n",
      "Epoch 16/20, loss=1.000: 100%|█████| 10000/10000 [00:02<00:00, 3371.96samples/s]\n",
      "\u001b[1;37m[INFO 2017-02-28 22:29:49,314 kur.model.executor:390]\u001b[0m Training loss: 1.000\u001b[0m\n",
      "\u001b[1;37m[INFO 2017-02-28 22:29:49,314 kur.model.executor:397]\u001b[0m Saving best historical training weights: t3/cifar.best.train.w\u001b[0m\n",
      "Validating, loss=1.244: 100%|████████| 1600/1600 [00:00<00:00, 4174.28samples/s]\n",
      "\u001b[1;37m[INFO 2017-02-28 22:29:49,705 kur.model.executor:175]\u001b[0m Validation loss: 1.244\u001b[0m\n",
      "\u001b[1;37m[INFO 2017-02-28 22:29:49,706 kur.model.executor:422]\u001b[0m Saving best historical validation weights: t3/cifar.best.valid.w\u001b[0m\n",
      "\n",
      "Epoch 17/20, loss=0.986: 100%|█████| 10000/10000 [00:02<00:00, 4469.39samples/s]\n",
      "\u001b[1;37m[INFO 2017-02-28 22:29:51,949 kur.model.executor:390]\u001b[0m Training loss: 0.986\u001b[0m\n",
      "\u001b[1;37m[INFO 2017-02-28 22:29:51,949 kur.model.executor:397]\u001b[0m Saving best historical training weights: t3/cifar.best.train.w\u001b[0m\n",
      "Validating, loss=1.294: 100%|████████| 1600/1600 [00:00<00:00, 8014.51samples/s]\n",
      "\u001b[1;37m[INFO 2017-02-28 22:29:52,154 kur.model.executor:175]\u001b[0m Validation loss: 1.294\u001b[0m\n",
      "\n",
      "Epoch 18/20, loss=0.968: 100%|█████| 10000/10000 [00:02<00:00, 4853.69samples/s]\n",
      "\u001b[1;37m[INFO 2017-02-28 22:29:54,217 kur.model.executor:390]\u001b[0m Training loss: 0.968\u001b[0m\n",
      "\u001b[1;37m[INFO 2017-02-28 22:29:54,217 kur.model.executor:397]\u001b[0m Saving best historical training weights: t3/cifar.best.train.w\u001b[0m\n",
      "Validating, loss=1.352: 100%|████████| 1600/1600 [00:00<00:00, 7541.86samples/s]\n",
      "\u001b[1;37m[INFO 2017-02-28 22:29:54,435 kur.model.executor:175]\u001b[0m Validation loss: 1.352\u001b[0m\n",
      "\n",
      "Epoch 19/20, loss=0.963: 100%|█████| 10000/10000 [00:02<00:00, 4310.08samples/s]\n",
      "\u001b[1;37m[INFO 2017-02-28 22:29:56,757 kur.model.executor:390]\u001b[0m Training loss: 0.963\u001b[0m\n",
      "\u001b[1;37m[INFO 2017-02-28 22:29:56,757 kur.model.executor:397]\u001b[0m Saving best historical training weights: t3/cifar.best.train.w\u001b[0m\n",
      "Validating, loss=1.215: 100%|████████| 1600/1600 [00:00<00:00, 5476.13samples/s]\n",
      "\u001b[1;37m[INFO 2017-02-28 22:29:57,060 kur.model.executor:175]\u001b[0m Validation loss: 1.215\u001b[0m\n",
      "\u001b[1;37m[INFO 2017-02-28 22:29:57,060 kur.model.executor:422]\u001b[0m Saving best historical validation weights: t3/cifar.best.valid.w\u001b[0m\n",
      "\n",
      "Epoch 20/20, loss=0.930: 100%|█████| 10000/10000 [00:02<00:00, 4897.10samples/s]\n",
      "\u001b[1;37m[INFO 2017-02-28 22:29:59,109 kur.model.executor:390]\u001b[0m Training loss: 0.930\u001b[0m\n",
      "\u001b[1;37m[INFO 2017-02-28 22:29:59,109 kur.model.executor:397]\u001b[0m Saving best historical training weights: t3/cifar.best.train.w\u001b[0m\n",
      "Validating, loss=1.259: 100%|████████| 1600/1600 [00:00<00:00, 8264.63samples/s]\n",
      "\u001b[1;37m[INFO 2017-02-28 22:29:59,308 kur.model.executor:175]\u001b[0m Validation loss: 1.259\u001b[0m\n",
      "Completed 20 epochs.\n",
      "\u001b[1;37m[INFO 2017-02-28 22:29:59,309 kur.model.executor:210]\u001b[0m Saving most recent weights: t3/cifar.last.w\u001b[0m\n"
     ]
    }
   ],
   "source": [
    "!kur -v train dlnd_p2.yml"
   ]
  },
  {
   "cell_type": "code",
   "execution_count": 22,
   "metadata": {
    "collapsed": false
   },
   "outputs": [
    {
     "name": "stdout",
     "output_type": "stream",
     "text": [
      "training_loss_labels   validation_loss_labels\r\n",
      "training_loss_total    validation_loss_total\r\n"
     ]
    }
   ],
   "source": [
    "# %cd t3/\n",
    "!ls cifar-log"
   ]
  },
  {
   "cell_type": "code",
   "execution_count": 23,
   "metadata": {
    "collapsed": false
   },
   "outputs": [
    {
     "data": {
      "text/plain": [
       "array([ 2.0347259 ,  1.6929394 ,  1.54147506,  1.44420362,  1.3758949 ,\n",
       "        1.31863678,  1.26508343,  1.2262063 ,  1.18933189,  1.15463436,\n",
       "        1.12429321,  1.09335482,  1.06431651,  1.04932415,  1.02948546,\n",
       "        0.99968618,  0.98606402,  0.9677121 ,  0.96266526,  0.93041307], dtype=float32)"
      ]
     },
     "execution_count": 23,
     "metadata": {},
     "output_type": "execute_result"
    }
   ],
   "source": [
    "from kur.loggers import BinaryLogger\n",
    "training_loss = BinaryLogger.load_column('cifar-log', 'training_loss_total') \n",
    "validation_loss = BinaryLogger.load_column('cifar-log', 'validation_loss_total') \n",
    " \n",
    "training_loss"
   ]
  },
  {
   "cell_type": "code",
   "execution_count": 24,
   "metadata": {
    "collapsed": false
   },
   "outputs": [
    {
     "data": {
      "image/png": "[encoded data removed]",
      "text/plain": [
       "<matplotlib.figure.Figure at 0x10d1a3080>"
      ]
     },
     "metadata": {},
     "output_type": "display_data"
    }
   ],
   "source": [
    "import matplotlib.pyplot as plt\n",
    "plt.xlabel('Epoch')\n",
    "plt.ylabel('Loss')\n",
    "epoch = list(range(1, 1+len(training_loss)))\n",
    "t_line, = plt.plot(epoch, training_loss, 'co-', label='Training Loss')\n",
    "v_line, = plt.plot(epoch, validation_loss, 'mo-', label='Validation Loss')\n",
    "plt.legend(handles=[t_line, v_line])\n",
    "plt.show()"
   ]
  },
  {
   "cell_type": "code",
   "execution_count": 10,
   "metadata": {
    "collapsed": false
   },
   "outputs": [
    {
     "name": "stdout",
     "output_type": "stream",
     "text": [
      "Writing dlnd_p2_dropout.yml\n"
     ]
    }
   ],
   "source": [
    "%%writefile dlnd_p2_dropout.yml\n",
    "\n",
    "---\n",
    "settings:\n",
    "\n",
    "  # Where to get the data\n",
    "  cifar: &cifar\n",
    "    url: \"https://www.cs.toronto.edu/~kriz/cifar-10-python.tar.gz\"\n",
    "    checksum: \"6d958be074577803d12ecdefd02955f39262c83c16fe9348329d7fe0b5c001ce\"\n",
    "    path: \"~/kur\"           # if kur does not have normalization or one-hot-encoding, ##################\n",
    "                            # without normalization and one-hot-encoding, the performance will be hurt, right? ####\n",
    "  # Backend to use                                      \n",
    "  backend:\n",
    "    name: keras\n",
    "\n",
    "  # Hyperparameters\n",
    "  cnn:\n",
    "    kernels: 20\n",
    "    size: [5, 5]\n",
    "    strides: [2, 2]                \n",
    "\n",
    "  pool:\n",
    "    size: [2,2]\n",
    "    strides: [2,2]\n",
    "    type: \"max\"                         # must use a string here, {max} won't work, doc didn't say it #############\n",
    "\n",
    "model:\n",
    "  - input: images                       # images are normalized from 0 to 1, labels are one-hot-encoding ##########\n",
    "  - convolution:                        # does kur do normalize and one-hot-encoding under the hood? ##############\n",
    "      kernels: \"{{cnn.kernels}}\"\n",
    "      size: \"{{cnn.size}}\"\n",
    "      strides: \"{{ cnn.strides }}\"\n",
    "  - activation: relu\n",
    "  - pool:\n",
    "      size: \"{{pool.size}}\"\n",
    "      strides: \"{{pool.strides}}\"\n",
    "      type: \"{{pool.type}}\"             \n",
    "  - flatten:\n",
    "  - dense: 15                           # p2 want a dropout applied here, but kur does not have yet?? ############\n",
    "  - dropout: 0.75\n",
    "  - dense: 10\n",
    "  - activation: softmax\n",
    "    name: labels\n",
    "\n",
    "train:\n",
    "  data:\n",
    "    - cifar:\n",
    "        <<: *cifar\n",
    "        parts: [1]                      # only use dataset part 1 to train\n",
    "  provider:\n",
    "    batch_size: 128\n",
    "    num_batches: 1000                   # the entire part 1 will be used\n",
    "  log: t3/cifar-log                   \n",
    "  epochs: 20\n",
    "  weights:\n",
    "    initial: t3/cifar.best.valid.w    \n",
    "    best: t3/cifar.best.train.w\n",
    "    last: t3/cifar.last.w\n",
    "\n",
    "  optimizer:\n",
    "    name: adam\n",
    "    learning_rate: 0.001\n",
    "\n",
    "validate:\n",
    "  data:\n",
    "    - cifar:\n",
    "       <<: *cifar\n",
    "       parts: 5                          # only use dataset part 5 as validation set\n",
    "  provider:\n",
    "    num_batches: 50                      # the project 2 only used 5000 data points as validation set\n",
    "  weights: t3/cifar.best.valid.w\n",
    "\n",
    "test: &test\n",
    "  data:\n",
    "    - cifar:\n",
    "       <<: *cifar\n",
    "       parts: test\n",
    "  weights: t3/cifar.best.valid.w\n",
    "  provider:\n",
    "    num_batches: 1000                     # the entire part test will be used\n",
    "\n",
    "evaluate:\n",
    "  <<: *test\n",
    "  destination: t3/cifar.results.pkl\n",
    "\n",
    "loss:\n",
    "  - target: labels                        # in the project: training loss and valid_accuracy are printed #############\n",
    "    name: categorical_crossentropy        # this should be a matter of personal taste, won't really affect anything##\n",
    "...\n"
   ]
  },
  {
   "cell_type": "code",
   "execution_count": 11,
   "metadata": {
    "collapsed": false
   },
   "outputs": [
    {
     "name": "stdout",
     "output_type": "stream",
     "text": [
      "\u001b[1;37m[INFO 2017-02-28 22:28:36,640 kur.kurfile:638]\u001b[0m Parsing source: dlnd_p2_dropout.yml, included by top-level.\u001b[0m\n",
      "\u001b[1;37m[INFO 2017-02-28 22:28:36,658 kur.kurfile:79]\u001b[0m Parsing Kurfile...\u001b[0m\n",
      "Traceback (most recent call last):\n",
      "  File \"/Users/Natsume/miniconda2/envs/dlnd-tf-lab/bin/kur\", line 11, in <module>\n",
      "    sys.exit(main())\n",
      "  File \"/Users/Natsume/miniconda2/envs/dlnd-tf-lab/lib/python3.5/site-packages/kur/__main__.py\", line 269, in main\n",
      "    sys.exit(args.func(args) or 0)\n",
      "  File \"/Users/Natsume/miniconda2/envs/dlnd-tf-lab/lib/python3.5/site-packages/kur/__main__.py\", line 47, in train\n",
      "    spec = parse_kurfile(args.kurfile, args.engine)\n",
      "  File \"/Users/Natsume/miniconda2/envs/dlnd-tf-lab/lib/python3.5/site-packages/kur/__main__.py\", line 40, in parse_kurfile\n",
      "    spec.parse()\n",
      "  File \"/Users/Natsume/miniconda2/envs/dlnd-tf-lab/lib/python3.5/site-packages/kur/kurfile.py\", line 120, in parse\n",
      "    self.engine, builtin['model'], stack, required=True)\n",
      "  File \"/Users/Natsume/miniconda2/envs/dlnd-tf-lab/lib/python3.5/site-packages/kur/kurfile.py\", line 592, in _parse_model\n",
      "    for entry in self.data[key]\n",
      "  File \"/Users/Natsume/miniconda2/envs/dlnd-tf-lab/lib/python3.5/site-packages/kur/kurfile.py\", line 592, in <listcomp>\n",
      "    for entry in self.data[key]\n",
      "  File \"/Users/Natsume/miniconda2/envs/dlnd-tf-lab/lib/python3.5/site-packages/kur/containers/container.py\", line 71, in create_container_from_data\n",
      "    cls = Container.find_container_for_data(data)\n",
      "  File \"/Users/Natsume/miniconda2/envs/dlnd-tf-lab/lib/python3.5/site-packages/kur/containers/container.py\", line 82, in find_container_for_data\n",
      "    raise ValueError('No such container for data: {}'.format(data))\n",
      "ValueError: No such container for data: {'dropout': 0.75}\n"
     ]
    }
   ],
   "source": [
    "!kur -v train dlnd_p2_dropout.yml"
   ]
  },
  {
   "cell_type": "code",
   "execution_count": null,
   "metadata": {
    "collapsed": true
   },
   "outputs": [],
   "source": []
  }
 ],
 "metadata": {
  "kernelspec": {
   "display_name": "Python 3",
   "language": "python",
   "name": "python3"
  },
  "language_info": {
   "codemirror_mode": {
    "name": "ipython",
    "version": 3
   },
   "file_extension": ".py",
   "mimetype": "text/x-python",
   "name": "python",
   "nbconvert_exporter": "python",
   "pygments_lexer": "ipython3",
   "version": "3.5.3"
  }
 },
 "nbformat": 4,
 "nbformat_minor": 1
}
